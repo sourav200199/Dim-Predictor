{
 "cells": [
  {
   "cell_type": "markdown",
   "id": "765b28f7",
   "metadata": {},
   "source": [
    "# Dimension Predictor"
   ]
  },
  {
   "cell_type": "markdown",
   "id": "fcb8f329",
   "metadata": {},
   "source": [
    "### 1. Data information"
   ]
  },
  {
   "cell_type": "code",
   "execution_count": 1,
   "id": "372d5fd5",
   "metadata": {},
   "outputs": [],
   "source": [
    "import pandas as pd"
   ]
  },
  {
   "cell_type": "code",
   "execution_count": 2,
   "id": "57ebcfef",
   "metadata": {},
   "outputs": [],
   "source": [
    "df = pd.read_csv('D:/Data Science/Dim-Predictor/data/extracted_data.csv',low_memory=False)"
   ]
  },
  {
   "cell_type": "code",
   "execution_count": 3,
   "id": "0c674faf",
   "metadata": {},
   "outputs": [
    {
     "data": {
      "text/html": [
       "<div>\n",
       "<style scoped>\n",
       "    .dataframe tbody tr th:only-of-type {\n",
       "        vertical-align: middle;\n",
       "    }\n",
       "\n",
       "    .dataframe tbody tr th {\n",
       "        vertical-align: top;\n",
       "    }\n",
       "\n",
       "    .dataframe thead th {\n",
       "        text-align: right;\n",
       "    }\n",
       "</style>\n",
       "<table border=\"1\" class=\"dataframe\">\n",
       "  <thead>\n",
       "    <tr style=\"text-align: right;\">\n",
       "      <th></th>\n",
       "      <th>PRODUCT_TYPE_ID</th>\n",
       "      <th>TYPE_FREQ</th>\n",
       "      <th>parsed_length</th>\n",
       "      <th>parsed_width</th>\n",
       "      <th>parsed_height</th>\n",
       "      <th>PACKAGING_STYLE</th>\n",
       "    </tr>\n",
       "  </thead>\n",
       "  <tbody>\n",
       "    <tr>\n",
       "      <th>0</th>\n",
       "      <td>5565</td>\n",
       "      <td>133</td>\n",
       "      <td>866.141731</td>\n",
       "      <td>220.00</td>\n",
       "      <td>550.00</td>\n",
       "      <td>2</td>\n",
       "    </tr>\n",
       "    <tr>\n",
       "      <th>1</th>\n",
       "      <td>1557</td>\n",
       "      <td>5943</td>\n",
       "      <td>10.000000</td>\n",
       "      <td>304.80</td>\n",
       "      <td>457.20</td>\n",
       "      <td>0</td>\n",
       "    </tr>\n",
       "    <tr>\n",
       "      <th>2</th>\n",
       "      <td>646</td>\n",
       "      <td>55</td>\n",
       "      <td>39.370079</td>\n",
       "      <td>480.00</td>\n",
       "      <td>320.00</td>\n",
       "      <td>0</td>\n",
       "    </tr>\n",
       "    <tr>\n",
       "      <th>3</th>\n",
       "      <td>1725</td>\n",
       "      <td>59</td>\n",
       "      <td>3937.000000</td>\n",
       "      <td>39.37</td>\n",
       "      <td>19.68</td>\n",
       "      <td>0</td>\n",
       "    </tr>\n",
       "    <tr>\n",
       "      <th>4</th>\n",
       "      <td>712</td>\n",
       "      <td>331</td>\n",
       "      <td>1000.000000</td>\n",
       "      <td>381.00</td>\n",
       "      <td>254.00</td>\n",
       "      <td>0</td>\n",
       "    </tr>\n",
       "    <tr>\n",
       "      <th>5</th>\n",
       "      <td>2197</td>\n",
       "      <td>175</td>\n",
       "      <td>393.700787</td>\n",
       "      <td>130.00</td>\n",
       "      <td>100.00</td>\n",
       "      <td>1</td>\n",
       "    </tr>\n",
       "    <tr>\n",
       "      <th>6</th>\n",
       "      <td>11192</td>\n",
       "      <td>176</td>\n",
       "      <td>196.850393</td>\n",
       "      <td>2.00</td>\n",
       "      <td>100.00</td>\n",
       "      <td>0</td>\n",
       "    </tr>\n",
       "    <tr>\n",
       "      <th>7</th>\n",
       "      <td>4788</td>\n",
       "      <td>26</td>\n",
       "      <td>354.330708</td>\n",
       "      <td>110.00</td>\n",
       "      <td>80.00</td>\n",
       "      <td>0</td>\n",
       "    </tr>\n",
       "    <tr>\n",
       "      <th>8</th>\n",
       "      <td>7256</td>\n",
       "      <td>7102</td>\n",
       "      <td>1799.999998</td>\n",
       "      <td>18.00</td>\n",
       "      <td>18.00</td>\n",
       "      <td>0</td>\n",
       "    </tr>\n",
       "    <tr>\n",
       "      <th>9</th>\n",
       "      <td>712</td>\n",
       "      <td>331</td>\n",
       "      <td>1200.787400</td>\n",
       "      <td>12.00</td>\n",
       "      <td>8.46</td>\n",
       "      <td>0</td>\n",
       "    </tr>\n",
       "  </tbody>\n",
       "</table>\n",
       "</div>"
      ],
      "text/plain": [
       "   PRODUCT_TYPE_ID  TYPE_FREQ  parsed_length  parsed_width  parsed_height  \\\n",
       "0             5565        133     866.141731        220.00         550.00   \n",
       "1             1557       5943      10.000000        304.80         457.20   \n",
       "2              646         55      39.370079        480.00         320.00   \n",
       "3             1725         59    3937.000000         39.37          19.68   \n",
       "4              712        331    1000.000000        381.00         254.00   \n",
       "5             2197        175     393.700787        130.00         100.00   \n",
       "6            11192        176     196.850393          2.00         100.00   \n",
       "7             4788         26     354.330708        110.00          80.00   \n",
       "8             7256       7102    1799.999998         18.00          18.00   \n",
       "9              712        331    1200.787400         12.00           8.46   \n",
       "\n",
       "   PACKAGING_STYLE  \n",
       "0                2  \n",
       "1                0  \n",
       "2                0  \n",
       "3                0  \n",
       "4                0  \n",
       "5                1  \n",
       "6                0  \n",
       "7                0  \n",
       "8                0  \n",
       "9                0  "
      ]
     },
     "execution_count": 3,
     "metadata": {},
     "output_type": "execute_result"
    }
   ],
   "source": [
    "df.head(10)"
   ]
  },
  {
   "cell_type": "code",
   "execution_count": 4,
   "id": "483cf489",
   "metadata": {},
   "outputs": [
    {
     "data": {
      "text/html": [
       "<div>\n",
       "<style scoped>\n",
       "    .dataframe tbody tr th:only-of-type {\n",
       "        vertical-align: middle;\n",
       "    }\n",
       "\n",
       "    .dataframe tbody tr th {\n",
       "        vertical-align: top;\n",
       "    }\n",
       "\n",
       "    .dataframe thead th {\n",
       "        text-align: right;\n",
       "    }\n",
       "</style>\n",
       "<table border=\"1\" class=\"dataframe\">\n",
       "  <thead>\n",
       "    <tr style=\"text-align: right;\">\n",
       "      <th></th>\n",
       "      <th>PRODUCT_TYPE_ID</th>\n",
       "      <th>TYPE_FREQ</th>\n",
       "      <th>parsed_length</th>\n",
       "      <th>parsed_width</th>\n",
       "      <th>parsed_height</th>\n",
       "      <th>PACKAGING_STYLE</th>\n",
       "    </tr>\n",
       "  </thead>\n",
       "  <tbody>\n",
       "    <tr>\n",
       "      <th>count</th>\n",
       "      <td>226648.000000</td>\n",
       "      <td>226648.000000</td>\n",
       "      <td>2.266480e+05</td>\n",
       "      <td>2.266480e+05</td>\n",
       "      <td>2.266480e+05</td>\n",
       "      <td>226648.000000</td>\n",
       "    </tr>\n",
       "    <tr>\n",
       "      <th>mean</th>\n",
       "      <td>5039.001866</td>\n",
       "      <td>1318.769078</td>\n",
       "      <td>1.197000e+04</td>\n",
       "      <td>3.979157e+03</td>\n",
       "      <td>4.889627e+04</td>\n",
       "      <td>0.520627</td>\n",
       "    </tr>\n",
       "    <tr>\n",
       "      <th>std</th>\n",
       "      <td>3861.230465</td>\n",
       "      <td>2168.311943</td>\n",
       "      <td>3.965521e+06</td>\n",
       "      <td>6.670621e+05</td>\n",
       "      <td>1.436353e+07</td>\n",
       "      <td>0.807945</td>\n",
       "    </tr>\n",
       "    <tr>\n",
       "      <th>min</th>\n",
       "      <td>0.000000</td>\n",
       "      <td>1.000000</td>\n",
       "      <td>1.000000e+00</td>\n",
       "      <td>1.000000e-02</td>\n",
       "      <td>1.000000e-05</td>\n",
       "      <td>0.000000</td>\n",
       "    </tr>\n",
       "    <tr>\n",
       "      <th>25%</th>\n",
       "      <td>1622.000000</td>\n",
       "      <td>68.750000</td>\n",
       "      <td>5.000000e+02</td>\n",
       "      <td>1.130000e+01</td>\n",
       "      <td>1.000000e+01</td>\n",
       "      <td>0.000000</td>\n",
       "    </tr>\n",
       "    <tr>\n",
       "      <th>50%</th>\n",
       "      <td>3613.000000</td>\n",
       "      <td>317.000000</td>\n",
       "      <td>1.000000e+03</td>\n",
       "      <td>4.650000e+01</td>\n",
       "      <td>3.937000e+01</td>\n",
       "      <td>0.000000</td>\n",
       "    </tr>\n",
       "    <tr>\n",
       "      <th>75%</th>\n",
       "      <td>7896.000000</td>\n",
       "      <td>1468.000000</td>\n",
       "      <td>2.086614e+03</td>\n",
       "      <td>3.048000e+02</td>\n",
       "      <td>3.302000e+02</td>\n",
       "      <td>1.000000</td>\n",
       "    </tr>\n",
       "    <tr>\n",
       "      <th>max</th>\n",
       "      <td>13418.000000</td>\n",
       "      <td>8315.000000</td>\n",
       "      <td>1.885801e+09</td>\n",
       "      <td>2.931501e+08</td>\n",
       "      <td>5.304503e+09</td>\n",
       "      <td>2.000000</td>\n",
       "    </tr>\n",
       "  </tbody>\n",
       "</table>\n",
       "</div>"
      ],
      "text/plain": [
       "       PRODUCT_TYPE_ID      TYPE_FREQ  parsed_length  parsed_width  \\\n",
       "count    226648.000000  226648.000000   2.266480e+05  2.266480e+05   \n",
       "mean       5039.001866    1318.769078   1.197000e+04  3.979157e+03   \n",
       "std        3861.230465    2168.311943   3.965521e+06  6.670621e+05   \n",
       "min           0.000000       1.000000   1.000000e+00  1.000000e-02   \n",
       "25%        1622.000000      68.750000   5.000000e+02  1.130000e+01   \n",
       "50%        3613.000000     317.000000   1.000000e+03  4.650000e+01   \n",
       "75%        7896.000000    1468.000000   2.086614e+03  3.048000e+02   \n",
       "max       13418.000000    8315.000000   1.885801e+09  2.931501e+08   \n",
       "\n",
       "       parsed_height  PACKAGING_STYLE  \n",
       "count   2.266480e+05    226648.000000  \n",
       "mean    4.889627e+04         0.520627  \n",
       "std     1.436353e+07         0.807945  \n",
       "min     1.000000e-05         0.000000  \n",
       "25%     1.000000e+01         0.000000  \n",
       "50%     3.937000e+01         0.000000  \n",
       "75%     3.302000e+02         1.000000  \n",
       "max     5.304503e+09         2.000000  "
      ]
     },
     "execution_count": 4,
     "metadata": {},
     "output_type": "execute_result"
    }
   ],
   "source": [
    "df.describe()"
   ]
  },
  {
   "cell_type": "code",
   "execution_count": 5,
   "id": "db74abbb",
   "metadata": {},
   "outputs": [
    {
     "data": {
      "text/plain": [
       "PRODUCT_TYPE_ID    0\n",
       "TYPE_FREQ          0\n",
       "parsed_length      0\n",
       "parsed_width       0\n",
       "parsed_height      0\n",
       "PACKAGING_STYLE    0\n",
       "dtype: int64"
      ]
     },
     "execution_count": 5,
     "metadata": {},
     "output_type": "execute_result"
    }
   ],
   "source": [
    "df.isna().sum()"
   ]
  },
  {
   "cell_type": "code",
   "execution_count": 6,
   "id": "ae6d7686",
   "metadata": {},
   "outputs": [],
   "source": [
    "import seaborn as sns"
   ]
  },
  {
   "cell_type": "code",
   "execution_count": 7,
   "id": "bb1109e1",
   "metadata": {},
   "outputs": [
    {
     "data": {
      "text/plain": [
       "PRODUCT_TYPE_ID      int64\n",
       "TYPE_FREQ            int64\n",
       "parsed_length      float64\n",
       "parsed_width       float64\n",
       "parsed_height      float64\n",
       "PACKAGING_STYLE      int64\n",
       "dtype: object"
      ]
     },
     "execution_count": 7,
     "metadata": {},
     "output_type": "execute_result"
    }
   ],
   "source": [
    "# Check datatype of each columns\n",
    "df.dtypes"
   ]
  },
  {
   "cell_type": "code",
   "execution_count": 8,
   "id": "aa2a1800",
   "metadata": {},
   "outputs": [
    {
     "data": {
      "text/plain": [
       "<Axes: >"
      ]
     },
     "execution_count": 8,
     "metadata": {},
     "output_type": "execute_result"
    },
    {
     "data": {
      "image/png": "[encoded data removed]",
      "text/plain": [
       "<Figure size 640x480 with 2 Axes>"
      ]
     },
     "metadata": {},
     "output_type": "display_data"
    }
   ],
   "source": [
    "sns.heatmap(df.corr(), annot=True, cmap='coolwarm')"
   ]
  },
  {
   "cell_type": "code",
   "execution_count": null,
   "id": "a37c768c",
   "metadata": {},
   "outputs": [],
   "source": []
  }
 ],
 "metadata": {
  "kernelspec": {
   "display_name": "base",
   "language": "python",
   "name": "python3"
  },
  "language_info": {
   "codemirror_mode": {
    "name": "ipython",
    "version": 3
   },
   "file_extension": ".py",
   "mimetype": "text/x-python",
   "name": "python",
   "nbconvert_exporter": "python",
   "pygments_lexer": "ipython3",
   "version": "3.12.7"
  }
 },
 "nbformat": 4,
 "nbformat_minor": 5
}
