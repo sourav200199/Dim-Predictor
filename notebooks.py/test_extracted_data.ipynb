{
 "cells": [
  {
   "cell_type": "markdown",
   "id": "765b28f7",
   "metadata": {},
   "source": [
    "# Dimension Predictor"
   ]
  },
  {
   "cell_type": "markdown",
   "id": "fcb8f329",
   "metadata": {},
   "source": [
    "### 1. Data information"
   ]
  },
  {
   "cell_type": "code",
   "execution_count": 1,
   "id": "372d5fd5",
   "metadata": {},
   "outputs": [],
   "source": [
    "import pandas as pd"
   ]
  },
  {
   "cell_type": "code",
   "execution_count": 2,
   "id": "57ebcfef",
   "metadata": {},
   "outputs": [],
   "source": [
    "df = pd.read_csv('D:/Data Science/Dim-Predictor/data/extracted_data.csv',low_memory=False)"
   ]
  },
  {
   "cell_type": "code",
   "execution_count": 3,
   "id": "0c674faf",
   "metadata": {},
   "outputs": [
    {
     "data": {
      "text/html": [
       "<div>\n",
       "<style scoped>\n",
       "    .dataframe tbody tr th:only-of-type {\n",
       "        vertical-align: middle;\n",
       "    }\n",
       "\n",
       "    .dataframe tbody tr th {\n",
       "        vertical-align: top;\n",
       "    }\n",
       "\n",
       "    .dataframe thead th {\n",
       "        text-align: right;\n",
       "    }\n",
       "</style>\n",
       "<table border=\"1\" class=\"dataframe\">\n",
       "  <thead>\n",
       "    <tr style=\"text-align: right;\">\n",
       "      <th></th>\n",
       "      <th>TYPE_FREQ</th>\n",
       "      <th>parsed_length</th>\n",
       "      <th>parsed_width</th>\n",
       "      <th>parsed_height</th>\n",
       "      <th>PACKAGING_STYLE</th>\n",
       "    </tr>\n",
       "  </thead>\n",
       "  <tbody>\n",
       "    <tr>\n",
       "      <th>0</th>\n",
       "      <td>0.015877</td>\n",
       "      <td>4.587661e-07</td>\n",
       "      <td>7.504347e-07</td>\n",
       "      <td>1.036855e-07</td>\n",
       "      <td>1.0</td>\n",
       "    </tr>\n",
       "    <tr>\n",
       "      <th>1</th>\n",
       "      <td>0.714698</td>\n",
       "      <td>4.772507e-09</td>\n",
       "      <td>1.039706e-06</td>\n",
       "      <td>8.619092e-08</td>\n",
       "      <td>0.0</td>\n",
       "    </tr>\n",
       "    <tr>\n",
       "      <th>2</th>\n",
       "      <td>0.006495</td>\n",
       "      <td>2.034683e-08</td>\n",
       "      <td>1.637352e-06</td>\n",
       "      <td>6.032610e-08</td>\n",
       "      <td>0.0</td>\n",
       "    </tr>\n",
       "    <tr>\n",
       "      <th>3</th>\n",
       "      <td>0.006976</td>\n",
       "      <td>2.087176e-06</td>\n",
       "      <td>1.342657e-07</td>\n",
       "      <td>3.710054e-09</td>\n",
       "      <td>0.0</td>\n",
       "    </tr>\n",
       "    <tr>\n",
       "      <th>4</th>\n",
       "      <td>0.039692</td>\n",
       "      <td>5.297483e-07</td>\n",
       "      <td>1.299641e-06</td>\n",
       "      <td>4.788385e-08</td>\n",
       "      <td>0.0</td>\n",
       "    </tr>\n",
       "    <tr>\n",
       "      <th>5</th>\n",
       "      <td>0.020929</td>\n",
       "      <td>2.082408e-07</td>\n",
       "      <td>4.434247e-07</td>\n",
       "      <td>1.885191e-08</td>\n",
       "      <td>0.5</td>\n",
       "    </tr>\n",
       "    <tr>\n",
       "      <th>6</th>\n",
       "      <td>0.021049</td>\n",
       "      <td>1.038553e-07</td>\n",
       "      <td>6.788331e-09</td>\n",
       "      <td>1.885191e-08</td>\n",
       "      <td>0.0</td>\n",
       "    </tr>\n",
       "    <tr>\n",
       "      <th>7</th>\n",
       "      <td>0.003007</td>\n",
       "      <td>1.873637e-07</td>\n",
       "      <td>3.752003e-07</td>\n",
       "      <td>1.508152e-08</td>\n",
       "      <td>0.0</td>\n",
       "    </tr>\n",
       "    <tr>\n",
       "      <th>8</th>\n",
       "      <td>0.854102</td>\n",
       "      <td>9.539711e-07</td>\n",
       "      <td>6.136788e-08</td>\n",
       "      <td>3.393342e-09</td>\n",
       "      <td>0.0</td>\n",
       "    </tr>\n",
       "    <tr>\n",
       "      <th>9</th>\n",
       "      <td>0.039692</td>\n",
       "      <td>6.362215e-07</td>\n",
       "      <td>4.090055e-08</td>\n",
       "      <td>1.594870e-09</td>\n",
       "      <td>0.0</td>\n",
       "    </tr>\n",
       "  </tbody>\n",
       "</table>\n",
       "</div>"
      ],
      "text/plain": [
       "   TYPE_FREQ  parsed_length  parsed_width  parsed_height  PACKAGING_STYLE\n",
       "0   0.015877   4.587661e-07  7.504347e-07   1.036855e-07              1.0\n",
       "1   0.714698   4.772507e-09  1.039706e-06   8.619092e-08              0.0\n",
       "2   0.006495   2.034683e-08  1.637352e-06   6.032610e-08              0.0\n",
       "3   0.006976   2.087176e-06  1.342657e-07   3.710054e-09              0.0\n",
       "4   0.039692   5.297483e-07  1.299641e-06   4.788385e-08              0.0\n",
       "5   0.020929   2.082408e-07  4.434247e-07   1.885191e-08              0.5\n",
       "6   0.021049   1.038553e-07  6.788331e-09   1.885191e-08              0.0\n",
       "7   0.003007   1.873637e-07  3.752003e-07   1.508152e-08              0.0\n",
       "8   0.854102   9.539711e-07  6.136788e-08   3.393342e-09              0.0\n",
       "9   0.039692   6.362215e-07  4.090055e-08   1.594870e-09              0.0"
      ]
     },
     "execution_count": 3,
     "metadata": {},
     "output_type": "execute_result"
    }
   ],
   "source": [
    "df.head(10)"
   ]
  },
  {
   "cell_type": "code",
   "execution_count": 4,
   "id": "483cf489",
   "metadata": {},
   "outputs": [
    {
     "data": {
      "text/html": [
       "<div>\n",
       "<style scoped>\n",
       "    .dataframe tbody tr th:only-of-type {\n",
       "        vertical-align: middle;\n",
       "    }\n",
       "\n",
       "    .dataframe tbody tr th {\n",
       "        vertical-align: top;\n",
       "    }\n",
       "\n",
       "    .dataframe thead th {\n",
       "        text-align: right;\n",
       "    }\n",
       "</style>\n",
       "<table border=\"1\" class=\"dataframe\">\n",
       "  <thead>\n",
       "    <tr style=\"text-align: right;\">\n",
       "      <th></th>\n",
       "      <th>TYPE_FREQ</th>\n",
       "      <th>parsed_length</th>\n",
       "      <th>parsed_width</th>\n",
       "      <th>parsed_height</th>\n",
       "      <th>PACKAGING_STYLE</th>\n",
       "    </tr>\n",
       "  </thead>\n",
       "  <tbody>\n",
       "    <tr>\n",
       "      <th>count</th>\n",
       "      <td>226648.000000</td>\n",
       "      <td>2.266480e+05</td>\n",
       "      <td>2.266480e+05</td>\n",
       "      <td>2.266480e+05</td>\n",
       "      <td>226648.000000</td>\n",
       "    </tr>\n",
       "    <tr>\n",
       "      <th>mean</th>\n",
       "      <td>0.158500</td>\n",
       "      <td>6.346905e-06</td>\n",
       "      <td>1.357375e-05</td>\n",
       "      <td>9.217879e-06</td>\n",
       "      <td>0.260313</td>\n",
       "    </tr>\n",
       "    <tr>\n",
       "      <th>std</th>\n",
       "      <td>0.260802</td>\n",
       "      <td>2.102830e-03</td>\n",
       "      <td>2.275497e-03</td>\n",
       "      <td>2.707799e-03</td>\n",
       "      <td>0.403973</td>\n",
       "    </tr>\n",
       "    <tr>\n",
       "      <th>min</th>\n",
       "      <td>0.000000</td>\n",
       "      <td>0.000000e+00</td>\n",
       "      <td>0.000000e+00</td>\n",
       "      <td>0.000000e+00</td>\n",
       "      <td>0.000000</td>\n",
       "    </tr>\n",
       "    <tr>\n",
       "      <th>25%</th>\n",
       "      <td>0.008149</td>\n",
       "      <td>2.646090e-07</td>\n",
       "      <td>3.851269e-08</td>\n",
       "      <td>1.885189e-09</td>\n",
       "      <td>0.000000</td>\n",
       "    </tr>\n",
       "    <tr>\n",
       "      <th>50%</th>\n",
       "      <td>0.038008</td>\n",
       "      <td>5.297483e-07</td>\n",
       "      <td>1.585877e-07</td>\n",
       "      <td>7.421994e-09</td>\n",
       "      <td>0.000000</td>\n",
       "    </tr>\n",
       "    <tr>\n",
       "      <th>75%</th>\n",
       "      <td>0.176449</td>\n",
       "      <td>1.105956e-06</td>\n",
       "      <td>1.039706e-06</td>\n",
       "      <td>6.224900e-08</td>\n",
       "      <td>0.500000</td>\n",
       "    </tr>\n",
       "    <tr>\n",
       "      <th>max</th>\n",
       "      <td>1.000000</td>\n",
       "      <td>1.000000e+00</td>\n",
       "      <td>1.000000e+00</td>\n",
       "      <td>1.000000e+00</td>\n",
       "      <td>1.000000</td>\n",
       "    </tr>\n",
       "  </tbody>\n",
       "</table>\n",
       "</div>"
      ],
      "text/plain": [
       "           TYPE_FREQ  parsed_length  parsed_width  parsed_height  \\\n",
       "count  226648.000000   2.266480e+05  2.266480e+05   2.266480e+05   \n",
       "mean        0.158500   6.346905e-06  1.357375e-05   9.217879e-06   \n",
       "std         0.260802   2.102830e-03  2.275497e-03   2.707799e-03   \n",
       "min         0.000000   0.000000e+00  0.000000e+00   0.000000e+00   \n",
       "25%         0.008149   2.646090e-07  3.851269e-08   1.885189e-09   \n",
       "50%         0.038008   5.297483e-07  1.585877e-07   7.421994e-09   \n",
       "75%         0.176449   1.105956e-06  1.039706e-06   6.224900e-08   \n",
       "max         1.000000   1.000000e+00  1.000000e+00   1.000000e+00   \n",
       "\n",
       "       PACKAGING_STYLE  \n",
       "count    226648.000000  \n",
       "mean          0.260313  \n",
       "std           0.403973  \n",
       "min           0.000000  \n",
       "25%           0.000000  \n",
       "50%           0.000000  \n",
       "75%           0.500000  \n",
       "max           1.000000  "
      ]
     },
     "execution_count": 4,
     "metadata": {},
     "output_type": "execute_result"
    }
   ],
   "source": [
    "df.describe()"
   ]
  },
  {
   "cell_type": "code",
   "execution_count": 5,
   "id": "db74abbb",
   "metadata": {},
   "outputs": [
    {
     "data": {
      "text/plain": [
       "TYPE_FREQ          0\n",
       "parsed_length      0\n",
       "parsed_width       0\n",
       "parsed_height      0\n",
       "PACKAGING_STYLE    0\n",
       "dtype: int64"
      ]
     },
     "execution_count": 5,
     "metadata": {},
     "output_type": "execute_result"
    }
   ],
   "source": [
    "df.isna().sum()"
   ]
  },
  {
   "cell_type": "code",
   "execution_count": 6,
   "id": "ae6d7686",
   "metadata": {},
   "outputs": [],
   "source": [
    "import seaborn as sns"
   ]
  },
  {
   "cell_type": "code",
   "execution_count": 7,
   "id": "bb1109e1",
   "metadata": {},
   "outputs": [
    {
     "data": {
      "text/plain": [
       "TYPE_FREQ          float64\n",
       "parsed_length      float64\n",
       "parsed_width       float64\n",
       "parsed_height      float64\n",
       "PACKAGING_STYLE    float64\n",
       "dtype: object"
      ]
     },
     "execution_count": 7,
     "metadata": {},
     "output_type": "execute_result"
    }
   ],
   "source": [
    "# Check datatype of each columns\n",
    "df.dtypes"
   ]
  },
  {
   "cell_type": "code",
   "execution_count": 8,
   "id": "aa2a1800",
   "metadata": {},
   "outputs": [
    {
     "data": {
      "text/plain": [
       "<Axes: >"
      ]
     },
     "execution_count": 8,
     "metadata": {},
     "output_type": "execute_result"
    },
    {
     "data": {
      "image/png": "[encoded data removed]",
      "text/plain": [
       "<Figure size 640x480 with 2 Axes>"
      ]
     },
     "metadata": {},
     "output_type": "display_data"
    }
   ],
   "source": [
    "sns.heatmap(df.corr(), annot=True, cmap='coolwarm')"
   ]
  },
  {
   "cell_type": "code",
   "execution_count": 10,
   "id": "a37c768c",
   "metadata": {},
   "outputs": [],
   "source": [
    "import joblib\n",
    "import os\n",
    "scaler = joblib.load(\"scaler.pkl\")"
   ]
  },
  {
   "cell_type": "code",
   "execution_count": 11,
   "id": "ace8533f",
   "metadata": {},
   "outputs": [],
   "source": [
    "params = scaler.get_params()"
   ]
  },
  {
   "cell_type": "code",
   "execution_count": 12,
   "id": "c16f2203",
   "metadata": {},
   "outputs": [
    {
     "data": {
      "text/plain": [
       "{'clip': False, 'copy': True, 'feature_range': (0, 1)}"
      ]
     },
     "execution_count": 12,
     "metadata": {},
     "output_type": "execute_result"
    }
   ],
   "source": [
    "params"
   ]
  },
  {
   "cell_type": "code",
   "execution_count": null,
   "id": "85cdf8b6",
   "metadata": {},
   "outputs": [],
   "source": []
  }
 ],
 "metadata": {
  "kernelspec": {
   "display_name": "base",
   "language": "python",
   "name": "python3"
  },
  "language_info": {
   "codemirror_mode": {
    "name": "ipython",
    "version": 3
   },
   "file_extension": ".py",
   "mimetype": "text/x-python",
   "name": "python",
   "nbconvert_exporter": "python",
   "pygments_lexer": "ipython3",
   "version": "3.12.7"
  }
 },
 "nbformat": 4,
 "nbformat_minor": 5
}
